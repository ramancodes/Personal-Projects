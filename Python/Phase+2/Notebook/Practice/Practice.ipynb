{
 "cells": [
  {
   "cell_type": "markdown",
   "id": "81925803-c5c8-4aaa-8867-39b1c4ce384e",
   "metadata": {},
   "source": [
    "Let's write a code of factorial in python using jupyter notebook"
   ]
  },
  {
   "cell_type": "code",
   "execution_count": 4,
   "id": "82030ef1-1655-4a0f-99ac-e78b6a673b1e",
   "metadata": {},
   "outputs": [
    {
     "name": "stdin",
     "output_type": "stream",
     "text": [
      "Enter the number:  4\n"
     ]
    },
    {
     "name": "stdout",
     "output_type": "stream",
     "text": [
      "24\n"
     ]
    }
   ],
   "source": [
    "def factorial(n):\n",
    "    if(n<=1):\n",
    "        return 1\n",
    "    else:\n",
    "        return n * factorial(n-1)\n",
    "\n",
    "x = int(input(\"Enter the number: \"))\n",
    "print(factorial(x))"
   ]
  },
  {
   "cell_type": "markdown",
   "id": "9dbf8f11-9e88-4237-b931-f98c72c51d9c",
   "metadata": {},
   "source": [
    "Let's write one more program of a Fibonacci series using recursion in python"
   ]
  },
  {
   "cell_type": "code",
   "execution_count": 3,
   "id": "58ea1a53-d1b3-4195-875b-746b3a730515",
   "metadata": {},
   "outputs": [
    {
     "name": "stdin",
     "output_type": "stream",
     "text": [
      "Enter the no of terms:  10\n"
     ]
    },
    {
     "name": "stdout",
     "output_type": "stream",
     "text": [
      "0 1 1 2 3 5 8 13 21 34 "
     ]
    }
   ],
   "source": [
    "def fibonacci(n):\n",
    "    if n<=1:\n",
    "        return n\n",
    "    else:\n",
    "        return fibonacci(n-1) + fibonacci(n-2)\n",
    "\n",
    "n = int(input(\"Enter the no of terms: \"))\n",
    "if n<=0:\n",
    "    print(\"Invalid input\")\n",
    "else:\n",
    "    for i in range(n):\n",
    "        print(fibonacci(i), end=\" \")"
   ]
  },
  {
   "cell_type": "code",
   "execution_count": null,
   "id": "922a786c-3e45-4e53-b886-2fc30f03f5a5",
   "metadata": {},
   "outputs": [],
   "source": []
  }
 ],
 "metadata": {
  "kernelspec": {
   "display_name": "Python 3 (ipykernel)",
   "language": "python",
   "name": "python3"
  },
  "language_info": {
   "codemirror_mode": {
    "name": "ipython",
    "version": 3
   },
   "file_extension": ".py",
   "mimetype": "text/x-python",
   "name": "python",
   "nbconvert_exporter": "python",
   "pygments_lexer": "ipython3",
   "version": "3.11.5"
  }
 },
 "nbformat": 4,
 "nbformat_minor": 5
}
